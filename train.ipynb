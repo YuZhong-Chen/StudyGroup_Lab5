{
 "cells": [
  {
   "cell_type": "markdown",
   "metadata": {},
   "source": [
    "# Lab-05 YOLOv7 Train\n",
    "\n",
    "Please run the code with \"VScode-devcontainer\".\n",
    "\n",
    "> You can find the tutorial provided by Visual Studio Code here :   \n",
    "> [https://code.visualstudio.com/docs/devcontainers/containers](https://code.visualstudio.com/docs/devcontainers/containers)"
   ]
  },
  {
   "cell_type": "markdown",
   "metadata": {},
   "source": [
    "## Import Required Libraries"
   ]
  },
  {
   "cell_type": "code",
   "execution_count": 32,
   "metadata": {},
   "outputs": [],
   "source": [
    "from copy import deepcopy\n",
    "from pathlib import Path\n",
    "\n",
    "import numpy as np\n",
    "import torch\n",
    "import torch.nn as nn\n",
    "import torch.optim as optim\n",
    "import torch.optim.lr_scheduler as lr_scheduler\n",
    "from torch.utils.data import DataLoader\n",
    "import yaml\n",
    "from torch.cuda import amp\n",
    "from tqdm import tqdm\n",
    "\n",
    "import test  # import test.py to get mAP after each epoch\n",
    "from models.yolo import Model\n",
    "from utils.autoanchor import check_anchors\n",
    "from utils.datasets import LoadImagesAndLabels\n",
    "from utils.general import labels_to_class_weights, increment_path, init_seeds, fitness, check_dataset, one_cycle, colorstr\n",
    "from utils.loss import ComputeLoss, ComputeLossOTA\n",
    "from utils.torch_utils import ModelEMA, intersect_dicts"
   ]
  },
  {
   "cell_type": "markdown",
   "metadata": {},
   "source": [
    "## Hyper-Parameters"
   ]
  },
  {
   "cell_type": "code",
   "execution_count": 33,
   "metadata": {},
   "outputs": [],
   "source": [
    "OPTIMIZER_NAME = \"SGD\"\n",
    "BATCH_SIZE = 4\n",
    "EPOCH = 55"
   ]
  },
  {
   "cell_type": "markdown",
   "metadata": {},
   "source": [
    "## Open file"
   ]
  },
  {
   "cell_type": "code",
   "execution_count": 34,
   "metadata": {},
   "outputs": [],
   "source": [
    "# Data dict\n",
    "with open(\"data/AquariumDataset/data.yaml\") as f:\n",
    "    data_dict = yaml.load(f, Loader=yaml.SafeLoader)\n",
    "\n",
    "# Hyperparameters\n",
    "with open(\"data/hyp.scratch.custom.yaml\") as f:\n",
    "    hyp = yaml.load(f, Loader=yaml.SafeLoader)"
   ]
  },
  {
   "cell_type": "markdown",
   "metadata": {},
   "source": [
    "## Get Device"
   ]
  },
  {
   "cell_type": "code",
   "execution_count": 36,
   "metadata": {},
   "outputs": [
    {
     "name": "stdout",
     "output_type": "stream",
     "text": [
      "cuda\n"
     ]
    }
   ],
   "source": [
    "device = torch.device(\"cuda\" if torch.cuda.is_available() else \"cpu\")\n",
    "print(device)"
   ]
  },
  {
   "cell_type": "markdown",
   "metadata": {},
   "source": [
    "## Prepare Dataset for fine-tune\n",
    "\n",
    "- Dataset : Aquarium Dataset\n",
    "    - [https://public.roboflow.com/object-detection/aquarium](https://public.roboflow.com/object-detection/aquarium)\n",
    "\n",
    "---\n",
    "\n",
    "- Dataloader\n",
    "    - [pin_memory](https://pytorch.org/docs/stable/data.html#memory-pinning)\n",
    "    - [Train Custom Data (From YOLOv5)](https://github.com/ultralytics/yolov5/wiki/Train-Custom-Data)\n",
    "\n",
    "---\n",
    "\n",
    "```\n",
    "wget https://github.com/WongKinYiu/yolov7/releases/download/v0.1/yolov7.pt\n",
    "```"
   ]
  },
  {
   "cell_type": "code",
   "execution_count": 37,
   "metadata": {},
   "outputs": [
    {
     "name": "stderr",
     "output_type": "stream",
     "text": [
      "\u001b[34m\u001b[1mtrain: \u001b[0mScanning 'data/AquariumDataset/train/labels.cache' images and labels... 448 found, 0 missing, 1 empty, 0 corrupted: 100%|██████████| 448/448 [00:00<?, ?it/s]\n",
      "\u001b[34m\u001b[1mval: \u001b[0mScanning 'data/AquariumDataset/valid/labels.cache' images and labels... 127 found, 0 missing, 0 empty, 0 corrupted: 100%|██████████| 127/127 [00:00<?, ?it/s]\n"
     ]
    }
   ],
   "source": [
    "def create_dataloader(path, batch_size, augment=False, pad=0.0, rect=False, prefix=\"\"):\n",
    "    dataset = LoadImagesAndLabels(path=path, img_size=640, batch_size=batch_size, augment=augment, hyp=hyp, rect=rect, pad=pad, prefix=prefix)  # augment images  # augmentation hyperparameters  # rectangular training\n",
    "    dataloader = DataLoader(dataset, batch_size=min(batch_size, len(dataset)), pin_memory=True, collate_fn=LoadImagesAndLabels.collate_fn)\n",
    "\n",
    "    return dataloader, dataset\n",
    "\n",
    "\n",
    "# Trainloader\n",
    "dataloader, dataset = create_dataloader(path=data_dict[\"train\"], batch_size=BATCH_SIZE, augment=True, prefix=colorstr(\"train: \"))\n",
    "testloader = create_dataloader(path=data_dict[\"val\"], batch_size=BATCH_SIZE * 2, rect=True, pad=0.5, prefix=colorstr(\"val: \"))[0]  # testloader\n",
    "\n",
    "# check\n",
    "check_dataset(data_dict)"
   ]
  },
  {
   "cell_type": "markdown",
   "metadata": {},
   "source": [
    "## Download pre-trained weight\n",
    "\n",
    "Attempt to download the file if it does not exist.  \n",
    "\n",
    "- Reference  \n",
    "    - [https://github.com/WongKinYiu/yolov7/releases/tag/v0.1](https://github.com/WongKinYiu/yolov7/releases/tag/v0.1)"
   ]
  },
  {
   "cell_type": "code",
   "execution_count": 38,
   "metadata": {},
   "outputs": [],
   "source": [
    "def attempt_download(filename):\n",
    "    file = Path(filename)\n",
    "\n",
    "    # download if not found locally\n",
    "    if not file.exists():\n",
    "        repo = \"WongKinYiu/yolov7\"\n",
    "        tag = \"v0.1\"\n",
    "        name = file.name\n",
    "        url = f\"https://github.com/{repo}/releases/download/{tag}/{name}\"\n",
    "        print(f\"Downloading {url} to {file}...\")\n",
    "        torch.hub.download_url_to_file(url, file)\n",
    "\n",
    "\n",
    "attempt_download(filename=\"yolov7_training.pt\")"
   ]
  },
  {
   "cell_type": "markdown",
   "metadata": {},
   "source": [
    "## Model"
   ]
  },
  {
   "cell_type": "code",
   "execution_count": 39,
   "metadata": {},
   "outputs": [
    {
     "name": "stdout",
     "output_type": "stream",
     "text": [
      "Transferred 555/566 items\n"
     ]
    }
   ],
   "source": [
    "ckpt = torch.load(\"yolov7_training.pt\", map_location=device)  # load checkpoint\n",
    "model = Model(\"cfg/training/yolov7.yaml\", nc=data_dict[\"nc\"], anchors=hyp.get(\"anchors\")).to(device)  # create\n",
    "state_dict = ckpt[\"model\"].float().state_dict()  # to FP32\n",
    "state_dict = intersect_dicts(state_dict, model.state_dict(), exclude=[\"anchor\"])  # intersect\n",
    "model.load_state_dict(state_dict, strict=False)  # load\n",
    "print(\"Transferred %g/%g items\" % (len(state_dict), len(model.state_dict())))  # report\n",
    "\n",
    "# Freeze\n",
    "freeze = [f\"model.{x}.\" for x in range(0)]  # parameter names to freeze (full or partial)\n",
    "for k, v in model.named_parameters():\n",
    "    v.requires_grad = True  # train all layers\n",
    "    if any(x in k for x in freeze):\n",
    "        print(\"freezing %s\" % k)\n",
    "        v.requires_grad = False\n",
    "\n",
    "# Model parameters\n",
    "nl = model.model[-1].nl  # number of detection layers (used for scaling hyp['obj'])\n",
    "model.nc = data_dict[\"nc\"]  # attach number of classes to model\n",
    "model.names = data_dict[\"names\"]\n",
    "model.hyp = hyp  # attach hyperparameters to model\n",
    "model.gr = 1.0  # iou loss ratio (obj_loss = 1.0 or iou)\n",
    "model.class_weights = labels_to_class_weights(dataset.labels, model.nc).to(device) * model.nc  # attach class weights\n",
    "hyp[\"box\"] *= 3.0 / nl  # scale to layers\n",
    "hyp[\"cls\"] *= model.nc / 80.0 * 3.0 / nl  # scale to classes and layers\n",
    "hyp[\"obj\"] *= (640 / 640) ** 2 * 3.0 / nl  # scale to image size and layers\n",
    "hyp[\"label_smoothing\"] = 0.0"
   ]
  },
  {
   "cell_type": "markdown",
   "metadata": {},
   "source": [
    "## Optimizer"
   ]
  },
  {
   "cell_type": "code",
   "execution_count": 40,
   "metadata": {},
   "outputs": [
    {
     "name": "stdout",
     "output_type": "stream",
     "text": [
      "Scaled weight_decay = 0.0005\n",
      "Optimizer groups: 95 .bias, 95 conv.weight, 98 other\n"
     ]
    }
   ],
   "source": [
    "accumulate = max(round(64 / BATCH_SIZE), 1)  # accumulate loss before optimizing\n",
    "hyp[\"weight_decay\"] *= BATCH_SIZE * accumulate / 64  # scale weight_decay\n",
    "print(f\"Scaled weight_decay = {hyp['weight_decay']}\")\n",
    "\n",
    "pg0, pg1, pg2 = [], [], []  # optimizer parameter groups\n",
    "for k, v in model.named_modules():\n",
    "    if hasattr(v, \"bias\") and isinstance(v.bias, nn.Parameter):\n",
    "        pg2.append(v.bias)  # biases\n",
    "    if isinstance(v, nn.BatchNorm2d):\n",
    "        pg0.append(v.weight)  # no decay\n",
    "    elif hasattr(v, \"weight\") and isinstance(v.weight, nn.Parameter):\n",
    "        pg1.append(v.weight)  # apply decay\n",
    "    if hasattr(v, \"im\"):\n",
    "        if hasattr(v.im, \"implicit\"):\n",
    "            pg0.append(v.im.implicit)\n",
    "        else:\n",
    "            for iv in v.im:\n",
    "                pg0.append(iv.implicit)\n",
    "    if hasattr(v, \"imc\"):\n",
    "        if hasattr(v.imc, \"implicit\"):\n",
    "            pg0.append(v.imc.implicit)\n",
    "        else:\n",
    "            for iv in v.imc:\n",
    "                pg0.append(iv.implicit)\n",
    "    if hasattr(v, \"imb\"):\n",
    "        if hasattr(v.imb, \"implicit\"):\n",
    "            pg0.append(v.imb.implicit)\n",
    "        else:\n",
    "            for iv in v.imb:\n",
    "                pg0.append(iv.implicit)\n",
    "    if hasattr(v, \"imo\"):\n",
    "        if hasattr(v.imo, \"implicit\"):\n",
    "            pg0.append(v.imo.implicit)\n",
    "        else:\n",
    "            for iv in v.imo:\n",
    "                pg0.append(iv.implicit)\n",
    "    if hasattr(v, \"ia\"):\n",
    "        if hasattr(v.ia, \"implicit\"):\n",
    "            pg0.append(v.ia.implicit)\n",
    "        else:\n",
    "            for iv in v.ia:\n",
    "                pg0.append(iv.implicit)\n",
    "    if hasattr(v, \"attn\"):\n",
    "        if hasattr(v.attn, \"logit_scale\"):\n",
    "            pg0.append(v.attn.logit_scale)\n",
    "        if hasattr(v.attn, \"q_bias\"):\n",
    "            pg0.append(v.attn.q_bias)\n",
    "        if hasattr(v.attn, \"v_bias\"):\n",
    "            pg0.append(v.attn.v_bias)\n",
    "        if hasattr(v.attn, \"relative_position_bias_table\"):\n",
    "            pg0.append(v.attn.relative_position_bias_table)\n",
    "    if hasattr(v, \"rbr_dense\"):\n",
    "        if hasattr(v.rbr_dense, \"weight_rbr_origin\"):\n",
    "            pg0.append(v.rbr_dense.weight_rbr_origin)\n",
    "        if hasattr(v.rbr_dense, \"weight_rbr_avg_conv\"):\n",
    "            pg0.append(v.rbr_dense.weight_rbr_avg_conv)\n",
    "        if hasattr(v.rbr_dense, \"weight_rbr_pfir_conv\"):\n",
    "            pg0.append(v.rbr_dense.weight_rbr_pfir_conv)\n",
    "        if hasattr(v.rbr_dense, \"weight_rbr_1x1_kxk_idconv1\"):\n",
    "            pg0.append(v.rbr_dense.weight_rbr_1x1_kxk_idconv1)\n",
    "        if hasattr(v.rbr_dense, \"weight_rbr_1x1_kxk_conv2\"):\n",
    "            pg0.append(v.rbr_dense.weight_rbr_1x1_kxk_conv2)\n",
    "        if hasattr(v.rbr_dense, \"weight_rbr_gconv_dw\"):\n",
    "            pg0.append(v.rbr_dense.weight_rbr_gconv_dw)\n",
    "        if hasattr(v.rbr_dense, \"weight_rbr_gconv_pw\"):\n",
    "            pg0.append(v.rbr_dense.weight_rbr_gconv_pw)\n",
    "        if hasattr(v.rbr_dense, \"vector\"):\n",
    "            pg0.append(v.rbr_dense.vector)\n",
    "\n",
    "if OPTIMIZER_NAME == \"Adam\":\n",
    "    optimizer = optim.Adam(pg0, lr=hyp[\"lr0\"], betas=(hyp[\"momentum\"], 0.999))  # adjust beta1 to momentum\n",
    "elif OPTIMIZER_NAME == \"SGD\":\n",
    "    optimizer = optim.SGD(pg0, lr=hyp[\"lr0\"], momentum=hyp[\"momentum\"], nesterov=True)\n",
    "\n",
    "optimizer.add_param_group({\"params\": pg1, \"weight_decay\": hyp[\"weight_decay\"]})  # add pg1 with weight_decay\n",
    "optimizer.add_param_group({\"params\": pg2})  # add pg2 (biases)\n",
    "print(\"Optimizer groups: %g .bias, %g conv.weight, %g other\" % (len(pg2), len(pg1), len(pg0)))\n",
    "del pg0, pg1, pg2"
   ]
  },
  {
   "cell_type": "markdown",
   "metadata": {},
   "source": [
    "## Define Train Function"
   ]
  },
  {
   "cell_type": "code",
   "execution_count": 41,
   "metadata": {},
   "outputs": [],
   "source": [
    "def train():\n",
    "    global ckpt, state_dict\n",
    "\n",
    "    print(colorstr(\"hyperparameters: \") + \", \".join(f\"{k}={v}\" for k, v in hyp.items()))\n",
    "    save_dir = Path(increment_path(Path(\"runs/train\") / \"yolov7-custom\", exist_ok=False))\n",
    "\n",
    "    # Directories\n",
    "    wdir = save_dir / \"weights\"\n",
    "    wdir.mkdir(parents=True, exist_ok=True)  # make dir\n",
    "    weight_pt = wdir / \"weight.pt\"\n",
    "    results_file = save_dir / \"results.txt\"\n",
    "\n",
    "    # Save run settings\n",
    "    with open(save_dir / \"hyp.yaml\", \"w\") as f:\n",
    "        yaml.dump(hyp, f, sort_keys=False)\n",
    "\n",
    "    # Init\n",
    "    best_fitness = 0.0\n",
    "    init_seeds(1)\n",
    "\n",
    "    # Scheduler\n",
    "    lf = one_cycle(1, hyp[\"lrf\"], EPOCH)  # cosine 1->hyp['lrf']\n",
    "    scheduler = lr_scheduler.LambdaLR(optimizer, lr_lambda=lf)\n",
    "\n",
    "    # EMA\n",
    "    ema = ModelEMA(model)\n",
    "    if ckpt.get(\"ema\"):\n",
    "        ema.ema.load_state_dict(ckpt[\"ema\"].float().state_dict())\n",
    "        ema.updates = ckpt[\"updates\"]\n",
    "\n",
    "    # Results\n",
    "    if ckpt.get(\"training_results\") is not None:\n",
    "        results_file.write_text(ckpt[\"training_results\"])  # write results.txt\n",
    "\n",
    "    # Number of batches\n",
    "    nb = len(dataloader)\n",
    "\n",
    "    # Anchors\n",
    "    check_anchors(dataset, model=model, thr=hyp[\"anchor_t\"], imgsz=640)\n",
    "    model.half().float()  # pre-reduce anchor precision\n",
    "\n",
    "    # Start training\n",
    "    nw = max(round(hyp[\"warmup_epochs\"] * nb), 1000)  # number of warmup iterations, max(3 epochs, 1k iterations)\n",
    "    results = (0, 0, 0, 0, 0, 0, 0)  # P, R, mAP@.5, mAP@.5-.95, val_loss(box, obj, cls)\n",
    "    scheduler.last_epoch = -1  # do not move\n",
    "    scaler = amp.GradScaler()\n",
    "    compute_loss_ota = ComputeLossOTA(model)  # init loss class\n",
    "    compute_loss = ComputeLoss(model)  # init loss class\n",
    "\n",
    "    print(f\"Logging results to {save_dir}\")\n",
    "    print(f\"Starting training for {EPOCH} epochs...\")\n",
    "\n",
    "    for epoch in range(EPOCH):\n",
    "        model.train()\n",
    "\n",
    "        mloss = torch.zeros(4, device=device)  # mean losses\n",
    "        print((\"\\n\" + \"%10s\" * 8) % (\"Epoch\", \"gpu_mem\", \"box\", \"obj\", \"cls\", \"total\", \"labels\", \"img_size\"))\n",
    "        pbar = tqdm(enumerate(dataloader), total=nb)  # progress bar\n",
    "        optimizer.zero_grad()\n",
    "\n",
    "        # batch -------------------------------------------------------------\n",
    "        for i, (imgs, targets, paths, _) in pbar:\n",
    "            ni = i + nb * epoch  # number integrated batches (since train start)\n",
    "            imgs = imgs.to(device, non_blocking=True).float() / 255.0  # uint8 to float32, 0-255 to 0.0-1.0\n",
    "\n",
    "            # Warmup\n",
    "            if ni <= nw:\n",
    "                xi = [0, nw]  # x interp\n",
    "                accumulate = max(1, np.interp(ni, xi, [1, 64 / BATCH_SIZE]).round())\n",
    "                for j, x in enumerate(optimizer.param_groups):\n",
    "                    # bias lr falls from 0.1 to lr0, all other lrs rise from 0.0 to lr0\n",
    "                    x[\"lr\"] = np.interp(ni, xi, [hyp[\"warmup_bias_lr\"] if j == 2 else 0.0, x[\"initial_lr\"] * lf(epoch)])\n",
    "                    if \"momentum\" in x:\n",
    "                        x[\"momentum\"] = np.interp(ni, xi, [hyp[\"warmup_momentum\"], hyp[\"momentum\"]])\n",
    "\n",
    "            # Forward\n",
    "            with amp.autocast():\n",
    "                pred = model(imgs)  # forward\n",
    "                if \"loss_ota\" not in hyp or hyp[\"loss_ota\"] == 1:\n",
    "                    loss, loss_items = compute_loss_ota(pred, targets.to(device), imgs)  # loss scaled by batch_size\n",
    "                else:\n",
    "                    loss, loss_items = compute_loss(pred, targets.to(device))  # loss scaled by batch_size\n",
    "\n",
    "            # Backward\n",
    "            scaler.scale(loss).backward()\n",
    "\n",
    "            # Optimize\n",
    "            if ni % accumulate == 0:\n",
    "                scaler.step(optimizer)  # optimizer.step\n",
    "                scaler.update()\n",
    "                optimizer.zero_grad()\n",
    "                if ema:\n",
    "                    ema.update(model)\n",
    "\n",
    "            # Print\n",
    "            mloss = (mloss * i + loss_items) / (i + 1)  # update mean losses\n",
    "            mem = \"%.3gG\" % (torch.cuda.memory_reserved() / 1e9 if torch.cuda.is_available() else 0)  # (GB)\n",
    "            s = (\"%10s\" * 2 + \"%10.4g\" * 6) % (\"%g/%g\" % (epoch, EPOCH - 1), mem, *mloss, targets.shape[0], imgs.shape[-1])\n",
    "            pbar.set_description(s)\n",
    "\n",
    "        # Scheduler\n",
    "        scheduler.step()\n",
    "\n",
    "        # mAP\n",
    "        ema.update_attr(model, include=[\"yaml\", \"nc\", \"hyp\", \"gr\", \"names\", \"stride\", \"class_weights\"])\n",
    "        final_epoch = epoch + 1 == EPOCH\n",
    "        results, maps, times = test.test(data_dict, batch_size=BATCH_SIZE * 2, imgsz=640, model=ema.ema, dataloader=testloader, save_dir=save_dir, verbose=final_epoch, plots=final_epoch, compute_loss=compute_loss)\n",
    "\n",
    "        # Write\n",
    "        with open(results_file, \"a\") as f:\n",
    "            f.write(s + \"%10.4g\" * 7 % results + \"\\n\")  # append metrics, val_loss\n",
    "\n",
    "        # Update best mAP\n",
    "        fi = fitness(np.array(results).reshape(1, -1))  # weighted combination of [P, R, mAP@.5, mAP@.5-.95]\n",
    "        if fi > best_fitness:\n",
    "            best_fitness = fi\n",
    "            log = {\"epoch\": epoch, \"best_fitness\": best_fitness, \"training_results\": results_file.read_text(), \"model\": deepcopy(model).half(), \"ema\": deepcopy(ema.ema).half(), \"updates\": ema.updates, \"optimizer\": optimizer.state_dict(), \"wandb_id\": None}\n",
    "            torch.save(log, weight_pt)\n",
    "            del log\n",
    "\n",
    "    torch.cuda.empty_cache()\n",
    "    return results"
   ]
  },
  {
   "cell_type": "markdown",
   "metadata": {},
   "source": [
    "## Train"
   ]
  },
  {
   "cell_type": "code",
   "execution_count": 42,
   "metadata": {},
   "outputs": [
    {
     "name": "stdout",
     "output_type": "stream",
     "text": [
      "\u001b[34m\u001b[1mhyperparameters: \u001b[0mlr0=0.01, lrf=0.1, momentum=0.937, weight_decay=0.0005, warmup_epochs=3.0, warmup_momentum=0.8, warmup_bias_lr=0.1, box=0.05, cls=0.026249999999999992, cls_pw=1.0, obj=0.7, obj_pw=1.0, iou_t=0.2, anchor_t=4.0, fl_gamma=0.0, hsv_h=0.015, hsv_s=0.7, hsv_v=0.4, degrees=0.0, translate=0.2, scale=0.5, shear=0.0, perspective=0.0, flipud=0.0, fliplr=0.5, mosaic=1.0, mixup=0.0, copy_paste=0.0, paste_in=0.0, loss_ota=1, label_smoothing=0.0\n",
      "\n",
      "\u001b[34m\u001b[1mautoanchor: \u001b[0mAnalyzing anchors... anchors/target = 5.03, Best Possible Recall (BPR) = 0.9991\n",
      "Logging results to runs/train/yolov7-custom13\n",
      "Starting training for 55 epochs...\n",
      "\n",
      "     Epoch   gpu_mem       box       obj       cls     total    labels  img_size\n"
     ]
    },
    {
     "name": "stderr",
     "output_type": "stream",
     "text": [
      "  0%|          | 0/112 [00:00<?, ?it/s]"
     ]
    },
    {
     "name": "stderr",
     "output_type": "stream",
     "text": [
      "      0/54     3.51G   0.07841   0.02561   0.03247    0.1365        78       640: 100%|██████████| 112/112 [00:26<00:00,  4.30it/s]\n",
      "               Class      Images      Labels           P           R      mAP@.5  mAP@.5:.95: 100%|██████████| 16/16 [00:02<00:00,  7.34it/s]\n"
     ]
    },
    {
     "name": "stdout",
     "output_type": "stream",
     "text": [
      "                 all         127         909     0.00503      0.0358    0.000544     0.00011\n",
      "\n",
      "     Epoch   gpu_mem       box       obj       cls     total    labels  img_size\n"
     ]
    },
    {
     "name": "stderr",
     "output_type": "stream",
     "text": [
      "      1/54     3.61G   0.06385    0.0258   0.02769    0.1173        48       640: 100%|██████████| 112/112 [00:26<00:00,  4.30it/s]\n",
      "               Class      Images      Labels           P           R      mAP@.5  mAP@.5:.95: 100%|██████████| 16/16 [00:02<00:00,  7.52it/s]\n"
     ]
    },
    {
     "name": "stdout",
     "output_type": "stream",
     "text": [
      "                 all         127         909      0.0434       0.125      0.0257     0.00602\n",
      "\n",
      "     Epoch   gpu_mem       box       obj       cls     total    labels  img_size\n"
     ]
    },
    {
     "name": "stderr",
     "output_type": "stream",
     "text": [
      "      2/54     4.19G   0.05558   0.02308   0.02501    0.1037        53       640: 100%|██████████| 112/112 [00:25<00:00,  4.37it/s]\n",
      "               Class      Images      Labels           P           R      mAP@.5  mAP@.5:.95: 100%|██████████| 16/16 [00:02<00:00,  7.49it/s]\n"
     ]
    },
    {
     "name": "stdout",
     "output_type": "stream",
     "text": [
      "                 all         127         909      0.0942       0.259       0.084      0.0279\n",
      "\n",
      "     Epoch   gpu_mem       box       obj       cls     total    labels  img_size\n"
     ]
    },
    {
     "name": "stderr",
     "output_type": "stream",
     "text": [
      "      3/54     4.19G   0.05511   0.02332   0.02394    0.1024        85       640: 100%|██████████| 112/112 [00:25<00:00,  4.33it/s]\n",
      "               Class      Images      Labels           P           R      mAP@.5  mAP@.5:.95: 100%|██████████| 16/16 [00:02<00:00,  7.49it/s]\n"
     ]
    },
    {
     "name": "stdout",
     "output_type": "stream",
     "text": [
      "                 all         127         909       0.093       0.316       0.104      0.0272\n",
      "\n",
      "     Epoch   gpu_mem       box       obj       cls     total    labels  img_size\n"
     ]
    },
    {
     "name": "stderr",
     "output_type": "stream",
     "text": [
      "      4/54     4.19G    0.0565    0.0218   0.02347    0.1018        59       640: 100%|██████████| 112/112 [00:25<00:00,  4.32it/s]\n",
      "               Class      Images      Labels           P           R      mAP@.5  mAP@.5:.95: 100%|██████████| 16/16 [00:02<00:00,  7.60it/s]\n"
     ]
    },
    {
     "name": "stdout",
     "output_type": "stream",
     "text": [
      "                 all         127         909       0.455       0.261       0.154      0.0464\n",
      "\n",
      "     Epoch   gpu_mem       box       obj       cls     total    labels  img_size\n"
     ]
    },
    {
     "name": "stderr",
     "output_type": "stream",
     "text": [
      "      5/54     4.19G   0.05795    0.0199   0.02169   0.09954        78       640: 100%|██████████| 112/112 [00:25<00:00,  4.33it/s]\n",
      "               Class      Images      Labels           P           R      mAP@.5  mAP@.5:.95: 100%|██████████| 16/16 [00:02<00:00,  7.67it/s]\n"
     ]
    },
    {
     "name": "stdout",
     "output_type": "stream",
     "text": [
      "                 all         127         909       0.222       0.278       0.191      0.0512\n",
      "\n",
      "     Epoch   gpu_mem       box       obj       cls     total    labels  img_size\n"
     ]
    },
    {
     "name": "stderr",
     "output_type": "stream",
     "text": [
      "      6/54     4.19G   0.05799   0.01853   0.01905   0.09556       126       640: 100%|██████████| 112/112 [00:25<00:00,  4.32it/s]\n",
      "               Class      Images      Labels           P           R      mAP@.5  mAP@.5:.95: 100%|██████████| 16/16 [00:02<00:00,  7.70it/s]\n"
     ]
    },
    {
     "name": "stdout",
     "output_type": "stream",
     "text": [
      "                 all         127         909       0.188       0.315       0.215      0.0764\n",
      "\n",
      "     Epoch   gpu_mem       box       obj       cls     total    labels  img_size\n"
     ]
    },
    {
     "name": "stderr",
     "output_type": "stream",
     "text": [
      "      7/54     4.19G   0.05357   0.01832   0.01688   0.08878        43       640: 100%|██████████| 112/112 [00:25<00:00,  4.34it/s]\n",
      "               Class      Images      Labels           P           R      mAP@.5  mAP@.5:.95: 100%|██████████| 16/16 [00:02<00:00,  7.68it/s]\n"
     ]
    },
    {
     "name": "stdout",
     "output_type": "stream",
     "text": [
      "                 all         127         909       0.651       0.304       0.386       0.129\n",
      "\n",
      "     Epoch   gpu_mem       box       obj       cls     total    labels  img_size\n"
     ]
    },
    {
     "name": "stderr",
     "output_type": "stream",
     "text": [
      "      8/54     4.19G   0.05457   0.01794   0.01602   0.08854        25       640: 100%|██████████| 112/112 [00:25<00:00,  4.34it/s]\n",
      "               Class      Images      Labels           P           R      mAP@.5  mAP@.5:.95: 100%|██████████| 16/16 [00:02<00:00,  7.59it/s]\n"
     ]
    },
    {
     "name": "stdout",
     "output_type": "stream",
     "text": [
      "                 all         127         909       0.514       0.427       0.433       0.201\n",
      "\n",
      "     Epoch   gpu_mem       box       obj       cls     total    labels  img_size\n"
     ]
    },
    {
     "name": "stderr",
     "output_type": "stream",
     "text": [
      "      9/54     4.19G   0.04763   0.01935    0.0143   0.08128        34       640: 100%|██████████| 112/112 [00:25<00:00,  4.32it/s]\n",
      "               Class      Images      Labels           P           R      mAP@.5  mAP@.5:.95: 100%|██████████| 16/16 [00:02<00:00,  7.65it/s]\n"
     ]
    },
    {
     "name": "stdout",
     "output_type": "stream",
     "text": [
      "                 all         127         909       0.427       0.516       0.466       0.193\n",
      "\n",
      "     Epoch   gpu_mem       box       obj       cls     total    labels  img_size\n"
     ]
    },
    {
     "name": "stderr",
     "output_type": "stream",
     "text": [
      "     10/54     4.19G   0.04417   0.02009    0.0131   0.07736        54       640: 100%|██████████| 112/112 [00:25<00:00,  4.32it/s]\n",
      "               Class      Images      Labels           P           R      mAP@.5  mAP@.5:.95: 100%|██████████| 16/16 [00:02<00:00,  7.67it/s]\n"
     ]
    },
    {
     "name": "stdout",
     "output_type": "stream",
     "text": [
      "                 all         127         909       0.495       0.526       0.503       0.269\n",
      "\n",
      "     Epoch   gpu_mem       box       obj       cls     total    labels  img_size\n"
     ]
    },
    {
     "name": "stderr",
     "output_type": "stream",
     "text": [
      "     11/54     4.19G   0.04003   0.02075   0.01153   0.07231        92       640: 100%|██████████| 112/112 [00:26<00:00,  4.31it/s]\n",
      "               Class      Images      Labels           P           R      mAP@.5  mAP@.5:.95: 100%|██████████| 16/16 [00:02<00:00,  7.71it/s]\n"
     ]
    },
    {
     "name": "stdout",
     "output_type": "stream",
     "text": [
      "                 all         127         909       0.566       0.525       0.542        0.29\n",
      "\n",
      "     Epoch   gpu_mem       box       obj       cls     total    labels  img_size\n"
     ]
    },
    {
     "name": "stderr",
     "output_type": "stream",
     "text": [
      "     12/54     4.19G   0.03831   0.01905   0.01012   0.06747        87       640: 100%|██████████| 112/112 [00:25<00:00,  4.37it/s]\n",
      "               Class      Images      Labels           P           R      mAP@.5  mAP@.5:.95: 100%|██████████| 16/16 [00:02<00:00,  7.64it/s]\n"
     ]
    },
    {
     "name": "stdout",
     "output_type": "stream",
     "text": [
      "                 all         127         909       0.598       0.606       0.599       0.323\n",
      "\n",
      "     Epoch   gpu_mem       box       obj       cls     total    labels  img_size\n"
     ]
    },
    {
     "name": "stderr",
     "output_type": "stream",
     "text": [
      "     13/54     4.19G   0.03858   0.02001  0.008655   0.06725        52       640: 100%|██████████| 112/112 [00:25<00:00,  4.38it/s]\n",
      "               Class      Images      Labels           P           R      mAP@.5  mAP@.5:.95: 100%|██████████| 16/16 [00:02<00:00,  7.67it/s]\n"
     ]
    },
    {
     "name": "stdout",
     "output_type": "stream",
     "text": [
      "                 all         127         909       0.561       0.659       0.619        0.33\n",
      "\n",
      "     Epoch   gpu_mem       box       obj       cls     total    labels  img_size\n"
     ]
    },
    {
     "name": "stderr",
     "output_type": "stream",
     "text": [
      "     14/54     4.19G   0.03683   0.01889   0.00796   0.06368        98       640: 100%|██████████| 112/112 [00:25<00:00,  4.31it/s]\n",
      "               Class      Images      Labels           P           R      mAP@.5  mAP@.5:.95: 100%|██████████| 16/16 [00:02<00:00,  7.76it/s]\n"
     ]
    },
    {
     "name": "stdout",
     "output_type": "stream",
     "text": [
      "                 all         127         909       0.697       0.611       0.672       0.394\n",
      "\n",
      "     Epoch   gpu_mem       box       obj       cls     total    labels  img_size\n"
     ]
    },
    {
     "name": "stderr",
     "output_type": "stream",
     "text": [
      "     15/54     4.19G   0.03494   0.01859  0.007712   0.06124        46       640: 100%|██████████| 112/112 [00:25<00:00,  4.35it/s]\n",
      "               Class      Images      Labels           P           R      mAP@.5  mAP@.5:.95: 100%|██████████| 16/16 [00:02<00:00,  7.67it/s]\n"
     ]
    },
    {
     "name": "stdout",
     "output_type": "stream",
     "text": [
      "                 all         127         909       0.685       0.651       0.694       0.402\n",
      "\n",
      "     Epoch   gpu_mem       box       obj       cls     total    labels  img_size\n"
     ]
    },
    {
     "name": "stderr",
     "output_type": "stream",
     "text": [
      "     16/54     4.19G   0.03599   0.01891  0.007436   0.06233        70       640: 100%|██████████| 112/112 [00:26<00:00,  4.27it/s]\n",
      "               Class      Images      Labels           P           R      mAP@.5  mAP@.5:.95: 100%|██████████| 16/16 [00:02<00:00,  7.64it/s]\n"
     ]
    },
    {
     "name": "stdout",
     "output_type": "stream",
     "text": [
      "                 all         127         909       0.741       0.635       0.691       0.391\n",
      "\n",
      "     Epoch   gpu_mem       box       obj       cls     total    labels  img_size\n"
     ]
    },
    {
     "name": "stderr",
     "output_type": "stream",
     "text": [
      "     17/54     4.19G   0.03417   0.01803  0.007397    0.0596        46       640: 100%|██████████| 112/112 [00:25<00:00,  4.37it/s]\n",
      "               Class      Images      Labels           P           R      mAP@.5  mAP@.5:.95: 100%|██████████| 16/16 [00:02<00:00,  7.71it/s]\n"
     ]
    },
    {
     "name": "stdout",
     "output_type": "stream",
     "text": [
      "                 all         127         909       0.687       0.637       0.665       0.371\n",
      "\n",
      "     Epoch   gpu_mem       box       obj       cls     total    labels  img_size\n"
     ]
    },
    {
     "name": "stderr",
     "output_type": "stream",
     "text": [
      "     18/54     4.19G    0.0341   0.01858  0.006876   0.05955        25       640: 100%|██████████| 112/112 [00:25<00:00,  4.38it/s]\n",
      "               Class      Images      Labels           P           R      mAP@.5  mAP@.5:.95: 100%|██████████| 16/16 [00:02<00:00,  7.72it/s]\n"
     ]
    },
    {
     "name": "stdout",
     "output_type": "stream",
     "text": [
      "                 all         127         909       0.774       0.636       0.709       0.401\n",
      "\n",
      "     Epoch   gpu_mem       box       obj       cls     total    labels  img_size\n"
     ]
    },
    {
     "name": "stderr",
     "output_type": "stream",
     "text": [
      "     19/54     4.19G    0.0337   0.01936  0.006105   0.05917        87       640: 100%|██████████| 112/112 [00:25<00:00,  4.34it/s]\n",
      "               Class      Images      Labels           P           R      mAP@.5  mAP@.5:.95: 100%|██████████| 16/16 [00:02<00:00,  7.71it/s]\n"
     ]
    },
    {
     "name": "stdout",
     "output_type": "stream",
     "text": [
      "                 all         127         909       0.802       0.631       0.708       0.403\n",
      "\n",
      "     Epoch   gpu_mem       box       obj       cls     total    labels  img_size\n"
     ]
    },
    {
     "name": "stderr",
     "output_type": "stream",
     "text": [
      "     20/54     4.19G   0.03214   0.01819  0.005194   0.05552        53       640: 100%|██████████| 112/112 [00:25<00:00,  4.32it/s]\n",
      "               Class      Images      Labels           P           R      mAP@.5  mAP@.5:.95: 100%|██████████| 16/16 [00:02<00:00,  7.76it/s]\n"
     ]
    },
    {
     "name": "stdout",
     "output_type": "stream",
     "text": [
      "                 all         127         909       0.783       0.704        0.73       0.412\n",
      "\n",
      "     Epoch   gpu_mem       box       obj       cls     total    labels  img_size\n"
     ]
    },
    {
     "name": "stderr",
     "output_type": "stream",
     "text": [
      "     21/54     4.19G   0.03162   0.01828  0.005237   0.05514        41       640: 100%|██████████| 112/112 [00:25<00:00,  4.33it/s]\n",
      "               Class      Images      Labels           P           R      mAP@.5  mAP@.5:.95: 100%|██████████| 16/16 [00:02<00:00,  7.72it/s]\n"
     ]
    },
    {
     "name": "stdout",
     "output_type": "stream",
     "text": [
      "                 all         127         909       0.754       0.715       0.737       0.433\n",
      "\n",
      "     Epoch   gpu_mem       box       obj       cls     total    labels  img_size\n"
     ]
    },
    {
     "name": "stderr",
     "output_type": "stream",
     "text": [
      "     22/54     4.19G   0.03028   0.01749  0.004414   0.05218        58       640: 100%|██████████| 112/112 [00:25<00:00,  4.38it/s]\n",
      "               Class      Images      Labels           P           R      mAP@.5  mAP@.5:.95: 100%|██████████| 16/16 [00:02<00:00,  7.71it/s]\n"
     ]
    },
    {
     "name": "stdout",
     "output_type": "stream",
     "text": [
      "                 all         127         909       0.754       0.724       0.763       0.445\n",
      "\n",
      "     Epoch   gpu_mem       box       obj       cls     total    labels  img_size\n"
     ]
    },
    {
     "name": "stderr",
     "output_type": "stream",
     "text": [
      "     23/54     4.19G   0.03028    0.0162  0.003885   0.05036        50       640: 100%|██████████| 112/112 [00:26<00:00,  4.31it/s]\n",
      "               Class      Images      Labels           P           R      mAP@.5  mAP@.5:.95: 100%|██████████| 16/16 [00:02<00:00,  7.78it/s]\n"
     ]
    },
    {
     "name": "stdout",
     "output_type": "stream",
     "text": [
      "                 all         127         909       0.805       0.718       0.781       0.459\n",
      "\n",
      "     Epoch   gpu_mem       box       obj       cls     total    labels  img_size\n"
     ]
    },
    {
     "name": "stderr",
     "output_type": "stream",
     "text": [
      "     24/54     4.19G   0.03059    0.0187  0.004091   0.05338        63       640: 100%|██████████| 112/112 [00:25<00:00,  4.33it/s]\n",
      "               Class      Images      Labels           P           R      mAP@.5  mAP@.5:.95: 100%|██████████| 16/16 [00:02<00:00,  7.66it/s]\n"
     ]
    },
    {
     "name": "stdout",
     "output_type": "stream",
     "text": [
      "                 all         127         909       0.796       0.733       0.779       0.474\n",
      "\n",
      "     Epoch   gpu_mem       box       obj       cls     total    labels  img_size\n"
     ]
    },
    {
     "name": "stderr",
     "output_type": "stream",
     "text": [
      "     25/54     4.19G   0.02985   0.01713  0.003849   0.05083        46       640: 100%|██████████| 112/112 [00:25<00:00,  4.31it/s]\n",
      "               Class      Images      Labels           P           R      mAP@.5  mAP@.5:.95: 100%|██████████| 16/16 [00:02<00:00,  7.78it/s]\n"
     ]
    },
    {
     "name": "stdout",
     "output_type": "stream",
     "text": [
      "                 all         127         909       0.792       0.766       0.793       0.467\n",
      "\n",
      "     Epoch   gpu_mem       box       obj       cls     total    labels  img_size\n"
     ]
    },
    {
     "name": "stderr",
     "output_type": "stream",
     "text": [
      "     26/54     4.19G   0.02889   0.01659  0.003662   0.04915        50       640: 100%|██████████| 112/112 [00:25<00:00,  4.31it/s]\n",
      "               Class      Images      Labels           P           R      mAP@.5  mAP@.5:.95: 100%|██████████| 16/16 [00:02<00:00,  7.69it/s]\n"
     ]
    },
    {
     "name": "stdout",
     "output_type": "stream",
     "text": [
      "                 all         127         909       0.787        0.76       0.788       0.472\n",
      "\n",
      "     Epoch   gpu_mem       box       obj       cls     total    labels  img_size\n"
     ]
    },
    {
     "name": "stderr",
     "output_type": "stream",
     "text": [
      "     27/54     4.19G   0.02907   0.01715  0.003588   0.04981        46       640: 100%|██████████| 112/112 [00:25<00:00,  4.32it/s]\n",
      "               Class      Images      Labels           P           R      mAP@.5  mAP@.5:.95: 100%|██████████| 16/16 [00:02<00:00,  7.65it/s]\n"
     ]
    },
    {
     "name": "stdout",
     "output_type": "stream",
     "text": [
      "                 all         127         909       0.816       0.747       0.793       0.489\n",
      "\n",
      "     Epoch   gpu_mem       box       obj       cls     total    labels  img_size\n"
     ]
    },
    {
     "name": "stderr",
     "output_type": "stream",
     "text": [
      "     28/54     4.19G   0.02838   0.01694  0.003223   0.04854        63       640: 100%|██████████| 112/112 [00:25<00:00,  4.37it/s]\n",
      "               Class      Images      Labels           P           R      mAP@.5  mAP@.5:.95: 100%|██████████| 16/16 [00:02<00:00,  7.73it/s]\n"
     ]
    },
    {
     "name": "stdout",
     "output_type": "stream",
     "text": [
      "                 all         127         909       0.831       0.732       0.789       0.477\n",
      "\n",
      "     Epoch   gpu_mem       box       obj       cls     total    labels  img_size\n"
     ]
    },
    {
     "name": "stderr",
     "output_type": "stream",
     "text": [
      "     29/54     4.19G   0.02827   0.01724   0.00309    0.0486        62       640: 100%|██████████| 112/112 [00:25<00:00,  4.35it/s]\n",
      "               Class      Images      Labels           P           R      mAP@.5  mAP@.5:.95: 100%|██████████| 16/16 [00:02<00:00,  7.79it/s]\n"
     ]
    },
    {
     "name": "stdout",
     "output_type": "stream",
     "text": [
      "                 all         127         909       0.816        0.76       0.805       0.488\n",
      "\n",
      "     Epoch   gpu_mem       box       obj       cls     total    labels  img_size\n"
     ]
    },
    {
     "name": "stderr",
     "output_type": "stream",
     "text": [
      "     30/54     4.19G    0.0281   0.01586  0.003085   0.04704        65       640: 100%|██████████| 112/112 [00:25<00:00,  4.32it/s]\n",
      "               Class      Images      Labels           P           R      mAP@.5  mAP@.5:.95: 100%|██████████| 16/16 [00:02<00:00,  7.76it/s]\n"
     ]
    },
    {
     "name": "stdout",
     "output_type": "stream",
     "text": [
      "                 all         127         909       0.792       0.767       0.787       0.478\n",
      "\n",
      "     Epoch   gpu_mem       box       obj       cls     total    labels  img_size\n"
     ]
    },
    {
     "name": "stderr",
     "output_type": "stream",
     "text": [
      "     31/54     4.19G   0.02709   0.01605  0.002807   0.04595       113       640: 100%|██████████| 112/112 [00:25<00:00,  4.34it/s]\n",
      "               Class      Images      Labels           P           R      mAP@.5  mAP@.5:.95: 100%|██████████| 16/16 [00:02<00:00,  7.79it/s]\n"
     ]
    },
    {
     "name": "stdout",
     "output_type": "stream",
     "text": [
      "                 all         127         909       0.793       0.791        0.81       0.491\n",
      "\n",
      "     Epoch   gpu_mem       box       obj       cls     total    labels  img_size\n"
     ]
    },
    {
     "name": "stderr",
     "output_type": "stream",
     "text": [
      "     32/54     4.19G   0.02707   0.01605  0.002439   0.04556        37       640: 100%|██████████| 112/112 [00:25<00:00,  4.31it/s]\n",
      "               Class      Images      Labels           P           R      mAP@.5  mAP@.5:.95: 100%|██████████| 16/16 [00:02<00:00,  7.77it/s]\n"
     ]
    },
    {
     "name": "stdout",
     "output_type": "stream",
     "text": [
      "                 all         127         909        0.81        0.79       0.807       0.501\n",
      "\n",
      "     Epoch   gpu_mem       box       obj       cls     total    labels  img_size\n"
     ]
    },
    {
     "name": "stderr",
     "output_type": "stream",
     "text": [
      "     33/54     4.19G   0.02707   0.01684  0.002491    0.0464       130       640: 100%|██████████| 112/112 [00:25<00:00,  4.31it/s]\n",
      "               Class      Images      Labels           P           R      mAP@.5  mAP@.5:.95: 100%|██████████| 16/16 [00:02<00:00,  7.81it/s]\n"
     ]
    },
    {
     "name": "stdout",
     "output_type": "stream",
     "text": [
      "                 all         127         909       0.784       0.797       0.815       0.504\n",
      "\n",
      "     Epoch   gpu_mem       box       obj       cls     total    labels  img_size\n"
     ]
    },
    {
     "name": "stderr",
     "output_type": "stream",
     "text": [
      "     34/54     4.19G   0.02601   0.01661  0.002351   0.04497        19       640: 100%|██████████| 112/112 [00:25<00:00,  4.31it/s]\n",
      "               Class      Images      Labels           P           R      mAP@.5  mAP@.5:.95: 100%|██████████| 16/16 [00:02<00:00,  7.68it/s]\n"
     ]
    },
    {
     "name": "stdout",
     "output_type": "stream",
     "text": [
      "                 all         127         909       0.841       0.779       0.817         0.5\n",
      "\n",
      "     Epoch   gpu_mem       box       obj       cls     total    labels  img_size\n"
     ]
    },
    {
     "name": "stderr",
     "output_type": "stream",
     "text": [
      "     35/54     4.19G   0.02553   0.01493  0.002311   0.04277        76       640: 100%|██████████| 112/112 [00:25<00:00,  4.36it/s]\n",
      "               Class      Images      Labels           P           R      mAP@.5  mAP@.5:.95: 100%|██████████| 16/16 [00:02<00:00,  7.76it/s]\n"
     ]
    },
    {
     "name": "stdout",
     "output_type": "stream",
     "text": [
      "                 all         127         909       0.824       0.773       0.807       0.502\n",
      "\n",
      "     Epoch   gpu_mem       box       obj       cls     total    labels  img_size\n"
     ]
    },
    {
     "name": "stderr",
     "output_type": "stream",
     "text": [
      "     36/54     4.19G   0.02502   0.01555   0.00202   0.04259        72       640: 100%|██████████| 112/112 [00:25<00:00,  4.37it/s]\n",
      "               Class      Images      Labels           P           R      mAP@.5  mAP@.5:.95: 100%|██████████| 16/16 [00:02<00:00,  7.79it/s]\n"
     ]
    },
    {
     "name": "stdout",
     "output_type": "stream",
     "text": [
      "                 all         127         909       0.813       0.765       0.814       0.503\n",
      "\n",
      "     Epoch   gpu_mem       box       obj       cls     total    labels  img_size\n"
     ]
    },
    {
     "name": "stderr",
     "output_type": "stream",
     "text": [
      "     37/54     4.19G   0.02509   0.01536  0.002041   0.04249        49       640: 100%|██████████| 112/112 [00:25<00:00,  4.39it/s]\n",
      "               Class      Images      Labels           P           R      mAP@.5  mAP@.5:.95: 100%|██████████| 16/16 [00:02<00:00,  7.74it/s]\n"
     ]
    },
    {
     "name": "stdout",
     "output_type": "stream",
     "text": [
      "                 all         127         909       0.831       0.761       0.812       0.507\n",
      "\n",
      "     Epoch   gpu_mem       box       obj       cls     total    labels  img_size\n"
     ]
    },
    {
     "name": "stderr",
     "output_type": "stream",
     "text": [
      "     38/54     4.19G   0.02497   0.01538  0.001881   0.04223        57       640: 100%|██████████| 112/112 [00:26<00:00,  4.28it/s]\n",
      "               Class      Images      Labels           P           R      mAP@.5  mAP@.5:.95: 100%|██████████| 16/16 [00:02<00:00,  7.73it/s]\n"
     ]
    },
    {
     "name": "stdout",
     "output_type": "stream",
     "text": [
      "                 all         127         909       0.827       0.757       0.811       0.514\n",
      "\n",
      "     Epoch   gpu_mem       box       obj       cls     total    labels  img_size\n"
     ]
    },
    {
     "name": "stderr",
     "output_type": "stream",
     "text": [
      "     39/54     4.19G   0.02489   0.01412  0.002001   0.04101        48       640: 100%|██████████| 112/112 [00:25<00:00,  4.32it/s]\n",
      "               Class      Images      Labels           P           R      mAP@.5  mAP@.5:.95: 100%|██████████| 16/16 [00:02<00:00,  7.78it/s]\n"
     ]
    },
    {
     "name": "stdout",
     "output_type": "stream",
     "text": [
      "                 all         127         909       0.821        0.77       0.815       0.513\n",
      "\n",
      "     Epoch   gpu_mem       box       obj       cls     total    labels  img_size\n"
     ]
    },
    {
     "name": "stderr",
     "output_type": "stream",
     "text": [
      "     40/54     4.19G   0.02419   0.01404  0.001924   0.04015        49       640: 100%|██████████| 112/112 [00:25<00:00,  4.35it/s]\n",
      "               Class      Images      Labels           P           R      mAP@.5  mAP@.5:.95: 100%|██████████| 16/16 [00:02<00:00,  7.71it/s]\n"
     ]
    },
    {
     "name": "stdout",
     "output_type": "stream",
     "text": [
      "                 all         127         909       0.791        0.81       0.817       0.514\n",
      "\n",
      "     Epoch   gpu_mem       box       obj       cls     total    labels  img_size\n"
     ]
    },
    {
     "name": "stderr",
     "output_type": "stream",
     "text": [
      "     41/54     4.19G   0.02438   0.01477  0.001815   0.04096        35       640: 100%|██████████| 112/112 [00:26<00:00,  4.29it/s]\n",
      "               Class      Images      Labels           P           R      mAP@.5  mAP@.5:.95: 100%|██████████| 16/16 [00:02<00:00,  7.72it/s]\n"
     ]
    },
    {
     "name": "stdout",
     "output_type": "stream",
     "text": [
      "                 all         127         909         0.8       0.804       0.821       0.524\n",
      "\n",
      "     Epoch   gpu_mem       box       obj       cls     total    labels  img_size\n"
     ]
    },
    {
     "name": "stderr",
     "output_type": "stream",
     "text": [
      "     42/54     4.19G   0.02394   0.01424  0.001534   0.03971        50       640: 100%|██████████| 112/112 [00:25<00:00,  4.35it/s]\n",
      "               Class      Images      Labels           P           R      mAP@.5  mAP@.5:.95: 100%|██████████| 16/16 [00:02<00:00,  7.73it/s]\n"
     ]
    },
    {
     "name": "stdout",
     "output_type": "stream",
     "text": [
      "                 all         127         909       0.827        0.77       0.819       0.515\n",
      "\n",
      "     Epoch   gpu_mem       box       obj       cls     total    labels  img_size\n"
     ]
    },
    {
     "name": "stderr",
     "output_type": "stream",
     "text": [
      "     43/54     4.19G   0.02383    0.0142  0.001652   0.03969        91       640: 100%|██████████| 112/112 [00:25<00:00,  4.41it/s]\n",
      "               Class      Images      Labels           P           R      mAP@.5  mAP@.5:.95: 100%|██████████| 16/16 [00:02<00:00,  7.78it/s]\n"
     ]
    },
    {
     "name": "stdout",
     "output_type": "stream",
     "text": [
      "                 all         127         909       0.846       0.758       0.822       0.531\n",
      "\n",
      "     Epoch   gpu_mem       box       obj       cls     total    labels  img_size\n"
     ]
    },
    {
     "name": "stderr",
     "output_type": "stream",
     "text": [
      "     44/54     4.19G   0.02419   0.01406  0.001555    0.0398        37       640: 100%|██████████| 112/112 [00:25<00:00,  4.35it/s]\n",
      "               Class      Images      Labels           P           R      mAP@.5  mAP@.5:.95: 100%|██████████| 16/16 [00:02<00:00,  7.74it/s]\n"
     ]
    },
    {
     "name": "stdout",
     "output_type": "stream",
     "text": [
      "                 all         127         909       0.836       0.768       0.827        0.53\n",
      "\n",
      "     Epoch   gpu_mem       box       obj       cls     total    labels  img_size\n"
     ]
    },
    {
     "name": "stderr",
     "output_type": "stream",
     "text": [
      "     45/54     4.19G   0.02364   0.01331  0.001635   0.03859        70       640: 100%|██████████| 112/112 [00:25<00:00,  4.41it/s]\n",
      "               Class      Images      Labels           P           R      mAP@.5  mAP@.5:.95: 100%|██████████| 16/16 [00:02<00:00,  7.79it/s]\n"
     ]
    },
    {
     "name": "stdout",
     "output_type": "stream",
     "text": [
      "                 all         127         909       0.835       0.778        0.83       0.528\n",
      "\n",
      "     Epoch   gpu_mem       box       obj       cls     total    labels  img_size\n"
     ]
    },
    {
     "name": "stderr",
     "output_type": "stream",
     "text": [
      "     46/54     4.19G   0.02416   0.01529  0.001458   0.04091        56       640: 100%|██████████| 112/112 [00:25<00:00,  4.31it/s]\n",
      "               Class      Images      Labels           P           R      mAP@.5  mAP@.5:.95: 100%|██████████| 16/16 [00:02<00:00,  7.72it/s]\n"
     ]
    },
    {
     "name": "stdout",
     "output_type": "stream",
     "text": [
      "                 all         127         909       0.861        0.76       0.832       0.528\n",
      "\n",
      "     Epoch   gpu_mem       box       obj       cls     total    labels  img_size\n"
     ]
    },
    {
     "name": "stderr",
     "output_type": "stream",
     "text": [
      "     47/54     4.19G    0.0231   0.01416   0.00147   0.03873       115       640: 100%|██████████| 112/112 [00:25<00:00,  4.34it/s]\n",
      "               Class      Images      Labels           P           R      mAP@.5  mAP@.5:.95: 100%|██████████| 16/16 [00:02<00:00,  7.75it/s]\n"
     ]
    },
    {
     "name": "stdout",
     "output_type": "stream",
     "text": [
      "                 all         127         909       0.829       0.788       0.835       0.531\n",
      "\n",
      "     Epoch   gpu_mem       box       obj       cls     total    labels  img_size\n"
     ]
    },
    {
     "name": "stderr",
     "output_type": "stream",
     "text": [
      "     48/54     4.19G   0.02322   0.01314  0.001439    0.0378        64       640: 100%|██████████| 112/112 [00:25<00:00,  4.32it/s]\n",
      "               Class      Images      Labels           P           R      mAP@.5  mAP@.5:.95: 100%|██████████| 16/16 [00:02<00:00,  7.67it/s]\n"
     ]
    },
    {
     "name": "stdout",
     "output_type": "stream",
     "text": [
      "                 all         127         909       0.838       0.775       0.827       0.526\n",
      "\n",
      "     Epoch   gpu_mem       box       obj       cls     total    labels  img_size\n"
     ]
    },
    {
     "name": "stderr",
     "output_type": "stream",
     "text": [
      "     49/54     4.19G   0.02299   0.01387  0.001581   0.03844        66       640: 100%|██████████| 112/112 [00:25<00:00,  4.41it/s]\n",
      "               Class      Images      Labels           P           R      mAP@.5  mAP@.5:.95: 100%|██████████| 16/16 [00:02<00:00,  7.74it/s]\n"
     ]
    },
    {
     "name": "stdout",
     "output_type": "stream",
     "text": [
      "                 all         127         909       0.838       0.776       0.825       0.525\n",
      "\n",
      "     Epoch   gpu_mem       box       obj       cls     total    labels  img_size\n"
     ]
    },
    {
     "name": "stderr",
     "output_type": "stream",
     "text": [
      "     50/54     4.19G   0.02273   0.01382  0.001359    0.0379        93       640: 100%|██████████| 112/112 [00:25<00:00,  4.35it/s]\n",
      "               Class      Images      Labels           P           R      mAP@.5  mAP@.5:.95: 100%|██████████| 16/16 [00:02<00:00,  7.77it/s]\n"
     ]
    },
    {
     "name": "stdout",
     "output_type": "stream",
     "text": [
      "                 all         127         909        0.83       0.781       0.827       0.529\n",
      "\n",
      "     Epoch   gpu_mem       box       obj       cls     total    labels  img_size\n"
     ]
    },
    {
     "name": "stderr",
     "output_type": "stream",
     "text": [
      "     51/54     4.19G    0.0226   0.01475  0.001358   0.03871        49       640: 100%|██████████| 112/112 [00:25<00:00,  4.38it/s]\n",
      "               Class      Images      Labels           P           R      mAP@.5  mAP@.5:.95: 100%|██████████| 16/16 [00:02<00:00,  7.79it/s]\n"
     ]
    },
    {
     "name": "stdout",
     "output_type": "stream",
     "text": [
      "                 all         127         909       0.826       0.788       0.824       0.528\n",
      "\n",
      "     Epoch   gpu_mem       box       obj       cls     total    labels  img_size\n"
     ]
    },
    {
     "name": "stderr",
     "output_type": "stream",
     "text": [
      "     52/54     4.19G   0.02322   0.01401   0.00143   0.03866        52       640: 100%|██████████| 112/112 [00:25<00:00,  4.36it/s]\n",
      "               Class      Images      Labels           P           R      mAP@.5  mAP@.5:.95: 100%|██████████| 16/16 [00:02<00:00,  7.70it/s]\n"
     ]
    },
    {
     "name": "stdout",
     "output_type": "stream",
     "text": [
      "                 all         127         909       0.875       0.743        0.83        0.53\n",
      "\n",
      "     Epoch   gpu_mem       box       obj       cls     total    labels  img_size\n"
     ]
    },
    {
     "name": "stderr",
     "output_type": "stream",
     "text": [
      "     53/54     4.19G   0.02294   0.01303  0.001303   0.03728        71       640: 100%|██████████| 112/112 [00:25<00:00,  4.36it/s]\n",
      "               Class      Images      Labels           P           R      mAP@.5  mAP@.5:.95: 100%|██████████| 16/16 [00:02<00:00,  7.80it/s]\n"
     ]
    },
    {
     "name": "stdout",
     "output_type": "stream",
     "text": [
      "                 all         127         909       0.837       0.778       0.826       0.526\n",
      "\n",
      "     Epoch   gpu_mem       box       obj       cls     total    labels  img_size\n"
     ]
    },
    {
     "name": "stderr",
     "output_type": "stream",
     "text": [
      "     54/54     4.19G     0.023   0.01313  0.001713   0.03784        46       640: 100%|██████████| 112/112 [00:25<00:00,  4.36it/s]\n",
      "               Class      Images      Labels           P           R      mAP@.5  mAP@.5:.95: 100%|██████████| 16/16 [00:02<00:00,  7.33it/s]\n"
     ]
    },
    {
     "name": "stdout",
     "output_type": "stream",
     "text": [
      "                 all         127         909       0.857       0.767       0.824       0.528\n",
      "                fish         127         459       0.881       0.789        0.87       0.533\n",
      "           jellyfish         127         155       0.906       0.916       0.952       0.569\n",
      "             penguin         127         104       0.714       0.769       0.753       0.346\n",
      "              puffin         127          74       0.764       0.656       0.691       0.341\n",
      "               shark         127          57       0.893       0.649       0.767       0.576\n",
      "            starfish         127          27           1       0.801       0.901       0.683\n",
      "            stingray         127          33       0.839       0.788       0.834       0.649\n"
     ]
    },
    {
     "data": {
      "text/plain": [
       "(0.8566185969461217,\n",
       " 0.766881042989147,\n",
       " 0.8240403466043548,\n",
       " 0.5282587715010063,\n",
       " 0.05249493569135666,\n",
       " 0.0471758209168911,\n",
       " 0.0097836097702384)"
      ]
     },
     "execution_count": 42,
     "metadata": {},
     "output_type": "execute_result"
    }
   ],
   "source": [
    "train()"
   ]
  }
 ],
 "metadata": {
  "kernelspec": {
   "display_name": "base",
   "language": "python",
   "name": "python3"
  },
  "language_info": {
   "codemirror_mode": {
    "name": "ipython",
    "version": 3
   },
   "file_extension": ".py",
   "mimetype": "text/x-python",
   "name": "python",
   "nbconvert_exporter": "python",
   "pygments_lexer": "ipython3",
   "version": "3.10.11"
  },
  "orig_nbformat": 4
 },
 "nbformat": 4,
 "nbformat_minor": 2
}
